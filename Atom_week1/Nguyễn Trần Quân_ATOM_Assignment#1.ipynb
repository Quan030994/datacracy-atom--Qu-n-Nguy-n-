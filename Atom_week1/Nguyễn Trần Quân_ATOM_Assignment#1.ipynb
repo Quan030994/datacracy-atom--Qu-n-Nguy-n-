{
  "nbformat": 4,
  "nbformat_minor": 0,
  "metadata": {
    "colab": {
      "name": "Nguyễn Trần Quân_ATOM_Assignment#1.ipynb",
      "provenance": [],
      "authorship_tag": "ABX9TyMJtz8g0ISmJkZYjaRcX8uM",
      "include_colab_link": true
    },
    "kernelspec": {
      "name": "python3",
      "display_name": "Python 3"
    },
    "language_info": {
      "name": "python"
    }
  },
  "cells": [
    {
      "cell_type": "markdown",
      "metadata": {
        "id": "view-in-github",
        "colab_type": "text"
      },
      "source": [
        "<a href=\"https://colab.research.google.com/github/Quan030994/datacracy-atom--QuanNguyen/blob/main/Nguy%E1%BB%85n_Tr%E1%BA%A7n_Qu%C3%A2n_ATOM_Assignment_1.ipynb\" target=\"_parent\"><img src=\"https://colab.research.google.com/assets/colab-badge.svg\" alt=\"Open In Colab\"/></a>"
      ]
    },
    {
      "cell_type": "markdown",
      "metadata": {
        "id": "dFJS3778W5TB"
      },
      "source": [
        "#1.Python Basic - Your First Program"
      ]
    },
    {
      "cell_type": "code",
      "metadata": {
        "colab": {
          "base_uri": "https://localhost:8080/"
        },
        "id": "HOc46uPjW_Zx",
        "outputId": "25f0fe3a-80f9-4372-e806-86e64a6594df"
      },
      "source": [
        "print('Hello World')"
      ],
      "execution_count": null,
      "outputs": [
        {
          "output_type": "stream",
          "text": [
            "Hello World\n"
          ],
          "name": "stdout"
        }
      ]
    },
    {
      "cell_type": "markdown",
      "metadata": {
        "id": "8_1nyuAiXMD5"
      },
      "source": [
        "#2.Flow Control - A Short Program: Rock, Paper, Scissors"
      ]
    },
    {
      "cell_type": "code",
      "metadata": {
        "id": "nfRau9MpXPSM"
      },
      "source": [
        "## Rule\n",
        "def rule(computer, user):\n",
        "    if (computer == user):\n",
        "        print('Computer:', computer,' ', 'User: ',user,'\\n')\n",
        "        print('HOA')\n",
        "    else:\n",
        "        if (computer != user):\n",
        "            if(user == 'bao'):\n",
        "                if(computer == 'bua'):\n",
        "                    print('Computer:', computer,' ', 'User: ',user,'\\n')\n",
        "                    print('User Win')\n",
        "                else:\n",
        "                    if(computer == 'keo'):\n",
        "                        print('Computer:', computer,' ', 'User: ',user,'\\n')\n",
        "                        print('User Lose')\n",
        "            elif (user == 'bua'):\n",
        "                if (computer == 'bao'):\n",
        "                    print('Computer:', computer,' ', 'User: ',user,'\\n')\n",
        "                    print('User Lose')\n",
        "                else:\n",
        "                    if (computer == 'keo'):\n",
        "                        print('Computer:', computer,' ', 'User: ',user,'\\n')\n",
        "                        print('User Lose')\n",
        "            elif (user == 'keo'):\n",
        "                if (computer == 'bao'):\n",
        "                    print('Computer:', computer,' ', 'User: ',user,'\\n')\n",
        "                    print('User Win')\n",
        "                elif (computer == 'bua'):\n",
        "                    print('Computer:', computer,' ', 'User: ',user,'\\n')\n",
        "                    print('User lose')"
      ],
      "execution_count": null,
      "outputs": []
    },
    {
      "cell_type": "code",
      "metadata": {
        "colab": {
          "base_uri": "https://localhost:8080/"
        },
        "id": "VF6SWJ1YXp8n",
        "outputId": "87bbedea-f891-4824-db76-05ae0a046ff9"
      },
      "source": [
        "##game\n",
        "import random as rd\n",
        "tech = ['bao','bua','keo']\n",
        "computer = tech[rd.randint(0,2)]\n",
        "user = input('User Entered Activity: ')\n",
        "while user not in tech:\n",
        "    user = input('User Entered Activity Again: ')\n",
        "    continue\n",
        "rule(computer,user)\n",
        "print('\\n')\n",
        "answear = input('Do you want to play again: ')\n",
        "while answear == 'Yes':\n",
        "    computer = tech[rd.randint(0,2)]\n",
        "    user = input('User Entered Activity: ')\n",
        "    while user not in tech:\n",
        "        user = input('User Entered Activity Again: ')\n",
        "        continue\n",
        "    rule(computer,user)\n",
        "    answear = input('Do you want to play again: ')\n",
        "    continue"
      ],
      "execution_count": null,
      "outputs": [
        {
          "output_type": "stream",
          "text": [
            "User Entered Activity: bao\n",
            "Computer: keo   User:  bao \n",
            "\n",
            "User Lose\n",
            "\n",
            "\n",
            "Do you want to play again: Yes\n",
            "User Entered Activity: keo\n",
            "Computer: bua   User:  keo \n",
            "\n",
            "User lose\n",
            "Do you want to play again: no\n"
          ],
          "name": "stdout"
        }
      ]
    },
    {
      "cell_type": "markdown",
      "metadata": {
        "id": "NoMhR-IXjbmc"
      },
      "source": [
        "#3.Functions - A Short Program: Zigzag"
      ]
    },
    {
      "cell_type": "code",
      "metadata": {
        "id": "fFQGmrowjgV2"
      },
      "source": [
        "def convert(s, numRows):\n",
        "        \"\"\"\n",
        "        :type s: str\n",
        "        :type numRows: int\n",
        "        :rtype: str\n",
        "        \"\"\"\n",
        "        '''\n",
        "        PAYPALISHIRING\n",
        "        3 rows\n",
        "        \n",
        "        P   A\n",
        "        A P L H\n",
        "        Y   I\n",
        "        \n",
        "        PAHNAPLSIIGYIR\n",
        "    \n",
        "        \n",
        "        0 [P   A]  -> [P,A,]\n",
        "        1 [A P L]\n",
        "        2 [Y   I] \n",
        "        \n",
        "        Time O(n)\n",
        "        Space O(n)\n",
        "        \n",
        "        n is the number of characters in string\n",
        "        k is the numRows\n",
        "        '''\n",
        "        \n",
        "        if numRows == 1 or numRows >= len(s):\n",
        "            return s\n",
        "        \n",
        "        delta = -1\n",
        "        row = 0\n",
        "        res = [[] for i in range(numRows)]\n",
        "        \n",
        "        #iterate through our string\n",
        "        for c in s:\n",
        "            res[row].append(c)\n",
        "            if row == 0 or row == numRows - 1:\n",
        "                delta *= -1\n",
        "            row += delta\n",
        "        \n",
        "        #consolidate result\n",
        "        for i in range(len(res)):\n",
        "            res[i] = ''.join(res[i])\n",
        "        return ''.join(res)"
      ],
      "execution_count": null,
      "outputs": []
    },
    {
      "cell_type": "code",
      "metadata": {
        "colab": {
          "base_uri": "https://localhost:8080/",
          "height": 35
        },
        "id": "NDjaveiDVTg3",
        "outputId": "a3a22128-38ba-4064-d3b1-d9a7092a025e"
      },
      "source": [
        "s = 'PAYPALISHIRING'\n",
        "convert(s, 3)"
      ],
      "execution_count": null,
      "outputs": [
        {
          "output_type": "execute_result",
          "data": {
            "application/vnd.google.colaboratory.intrinsic+json": {
              "type": "string"
            },
            "text/plain": [
              "'PAHNAPLSIIGYIR'"
            ]
          },
          "metadata": {
            "tags": []
          },
          "execution_count": 3
        }
      ]
    },
    {
      "cell_type": "markdown",
      "metadata": {
        "id": "AOaKRT-F4Ewc"
      },
      "source": [
        "# 4. Conway’s Game of Life (Referring, not made by myself) "
      ]
    },
    {
      "cell_type": "markdown",
      "metadata": {
        "id": "9hnvLQ1q8Am_"
      },
      "source": [
        "Link to refer: https://github.com/Josephbakulikira/Conway-s-Game-of-life---Python/blob/master/grid.py"
      ]
    },
    {
      "cell_type": "code",
      "metadata": {
        "colab": {
          "base_uri": "https://localhost:8080/"
        },
        "id": "KoRGKAxl3ibp",
        "outputId": "8c00faef-ca29-499d-e13b-70ab34d2c2a7"
      },
      "source": [
        "import os\n",
        "!git clone https://github.com/ntasfi/PyGame-Learning-Environment.git\n",
        "os.chdir('PyGame-Learning-Environment')\n",
        "!pip install -e .\n",
        "!pip install pygame\n",
        "os.chdir('/content')"
      ],
      "execution_count": null,
      "outputs": [
        {
          "output_type": "stream",
          "text": [
            "Cloning into 'PyGame-Learning-Environment'...\n",
            "remote: Enumerating objects: 1118, done.\u001b[K\n",
            "remote: Total 1118 (delta 0), reused 0 (delta 0), pack-reused 1118\u001b[K\n",
            "Receiving objects: 100% (1118/1118), 8.06 MiB | 39.47 MiB/s, done.\n",
            "Resolving deltas: 100% (592/592), done.\n",
            "Obtaining file:///content/PyGame-Learning-Environment\n",
            "Requirement already satisfied: numpy in /usr/local/lib/python3.7/dist-packages (from ple==0.0.1) (1.19.5)\n",
            "Requirement already satisfied: Pillow in /usr/local/lib/python3.7/dist-packages (from ple==0.0.1) (7.1.2)\n",
            "Installing collected packages: ple\n",
            "  Running setup.py develop for ple\n",
            "Successfully installed ple\n",
            "Collecting pygame\n",
            "\u001b[?25l  Downloading https://files.pythonhosted.org/packages/4b/9e/c400554dd1d0e562bd4379f35ad5023c68fc120003a58991405850f56f95/pygame-2.0.1-cp37-cp37m-manylinux1_x86_64.whl (11.8MB)\n",
            "\u001b[K     |████████████████████████████████| 11.8MB 15.3MB/s \n",
            "\u001b[?25hInstalling collected packages: pygame\n",
            "Successfully installed pygame-2.0.1\n"
          ],
          "name": "stdout"
        }
      ]
    },
    {
      "cell_type": "code",
      "metadata": {
        "colab": {
          "base_uri": "https://localhost:8080/"
        },
        "id": "GasFizlV5xkh",
        "outputId": "95ed874f-25b6-4bef-df39-5bf1c7542405"
      },
      "source": [
        "!pip install pygame \n",
        "\n",
        "import os\n",
        "os.environ['SDL_VIDEODRIVER']='dummy'\n",
        "import pygame\n",
        "pygame.display.set_mode((640,480))"
      ],
      "execution_count": null,
      "outputs": [
        {
          "output_type": "stream",
          "text": [
            "Collecting pygame\n",
            "\u001b[?25l  Downloading https://files.pythonhosted.org/packages/4b/9e/c400554dd1d0e562bd4379f35ad5023c68fc120003a58991405850f56f95/pygame-2.0.1-cp37-cp37m-manylinux1_x86_64.whl (11.8MB)\n",
            "\u001b[K     |████████████████████████████████| 11.8MB 17.8MB/s \n",
            "\u001b[?25hInstalling collected packages: pygame\n",
            "Successfully installed pygame-2.0.1\n",
            "pygame 2.0.1 (SDL 2.0.14, Python 3.7.10)\n",
            "Hello from the pygame community. https://www.pygame.org/contribute.html\n"
          ],
          "name": "stdout"
        },
        {
          "output_type": "execute_result",
          "data": {
            "text/plain": [
              "<Surface(640x480x32 SW)>"
            ]
          },
          "metadata": {
            "tags": []
          },
          "execution_count": 1
        }
      ]
    },
    {
      "cell_type": "code",
      "metadata": {
        "id": "fC3Vpwnq3bw2"
      },
      "source": [
        "import pygame\n",
        "import numpy as np\n",
        "import random\n",
        "\n",
        "class Grid:\n",
        "    def __init__(self, width, height, scale, offset):\n",
        "        self.scale = scale\n",
        "\n",
        "        self.columns = int(height/scale)\n",
        "        self.rows = int(width/scale)\n",
        "\n",
        "        self.size = (self.rows, self.columns)\n",
        "        self.grid_array = np.ndarray(shape=(self.size))\n",
        "        self.offset = offset\n",
        "    def random2d_array(self):\n",
        "        for x in range(self.rows):\n",
        "            for y in range(self.columns):\n",
        "                self.grid_array[x][y] = random.randint(0,1)\n",
        "\n",
        "\n",
        "    def Conway(self, off_color, on_color, surface):\n",
        "        for x in range(self.rows):\n",
        "            for y in range(self.columns):\n",
        "                y_pos = y * self.scale\n",
        "                x_pos = x * self.scale\n",
        "                if self.grid_array[x][y] == 1:\n",
        "                    pygame.draw.rect(surface, on_color, [x_pos, y_pos, self.scale-self.offset, self.scale-self.offset])\n",
        "                else:\n",
        "                    pygame.draw.rect(surface, off_color, [x_pos, y_pos, self.scale-self.offset, self.scale-self.offset])\n",
        "\n",
        "        next = np.ndarray(shape=(self.size))\n",
        "        for x in range(self.rows):\n",
        "            for y in range(self.columns):\n",
        "                state = self.grid_array[x][y]\n",
        "                neighbours = self.get_neighbours( x, y)\n",
        "                if state == 0 and neighbours == 3:\n",
        "                    next[x][y] = 1\n",
        "                elif state == 1 and (neighbours < 2 or neighbours > 3):\n",
        "                    next[x][y] = 0\n",
        "                else:\n",
        "                    next[x][y] = state\n",
        "        self.grid_array = next\n",
        "\n",
        "    def get_neighbours(self, x, y):\n",
        "        total = 0\n",
        "        for n in range(-1, 2):\n",
        "            for m in range(-1, 2):\n",
        "                x_edge = (x+n+self.rows) % self.rows\n",
        "                y_edge = (y+m+self.columns) % self.columns\n",
        "                total += self.grid_array[x_edge][y_edge]\n",
        "\n",
        "        total -= self.grid_array[x][y]\n",
        "        return total"
      ],
      "execution_count": null,
      "outputs": []
    },
    {
      "cell_type": "code",
      "metadata": {
        "id": "X9MAamEL4Dbh"
      },
      "source": [
        "import time\n",
        "import os\n",
        "\n",
        "os.environ[\"SDL_VIDEO_CENTERED\"]='dummy'\n",
        "\n",
        "width, height = 640,480\n",
        "size = (width, height)\n",
        "\n",
        "pygame.init()\n",
        "pygame.display.set_caption(\"CONWAY'S GAME OF LIFE\")\n",
        "screen = pygame.display.set_mode((640,480))\n",
        "clock = pygame.time.Clock()\n",
        "fps = 60\n",
        "\n",
        "black = (0, 0, 0)\n",
        "blue = (0, 121, 150)\n",
        "blue1 = (0,14,71)\n",
        "white = (255, 255, 255)\n",
        "\n",
        "scaler = 20\n",
        "offset = 1\n",
        "\n",
        "Grid = Grid(width,height, scaler, offset)\n",
        "Grid.random2d_array()\n",
        "\n",
        "\n",
        "run = True\n",
        "while run:\n",
        "    clock.tick(fps)\n",
        "    screen.fill(black)\n",
        "\n",
        "    for event in pygame.event.get():\n",
        "        if event.type == pygame.QUIT:\n",
        "            run = False\n",
        "\n",
        "    Grid.Conway(off_color=white, on_color=blue1, surface=screen)\n",
        "    pygame.display.update()\n",
        "\n",
        "pygame.quit()\n"
      ],
      "execution_count": null,
      "outputs": []
    }
  ]
}
