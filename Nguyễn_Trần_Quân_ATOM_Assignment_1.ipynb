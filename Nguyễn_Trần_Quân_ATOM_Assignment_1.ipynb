{
  "nbformat": 4,
  "nbformat_minor": 0,
  "metadata": {
    "colab": {
      "name": "Nguyễn Trần Quân_ATOM_Assignment#1.ipynb",
      "provenance": [],
      "authorship_tag": "ABX9TyPPcY2b3ryRk7IY7xze1m72",
      "include_colab_link": true
    },
    "kernelspec": {
      "name": "python3",
      "display_name": "Python 3"
    },
    "language_info": {
      "name": "python"
    }
  },
  "cells": [
    {
      "cell_type": "markdown",
      "metadata": {
        "id": "view-in-github",
        "colab_type": "text"
      },
      "source": [
        "<a href=\"https://colab.research.google.com/github/Quan030994/datacracy-atom--QuanNguyen/blob/main/Nguy%E1%BB%85n_Tr%E1%BA%A7n_Qu%C3%A2n_ATOM_Assignment_1.ipynb\" target=\"_parent\"><img src=\"https://colab.research.google.com/assets/colab-badge.svg\" alt=\"Open In Colab\"/></a>"
      ]
    },
    {
      "cell_type": "markdown",
      "metadata": {
        "id": "dFJS3778W5TB"
      },
      "source": [
        "#1.Python Basic - Your First Program"
      ]
    },
    {
      "cell_type": "code",
      "metadata": {
        "colab": {
          "base_uri": "https://localhost:8080/"
        },
        "id": "HOc46uPjW_Zx",
        "outputId": "25f0fe3a-80f9-4372-e806-86e64a6594df"
      },
      "source": [
        "print('Hello World')"
      ],
      "execution_count": null,
      "outputs": [
        {
          "output_type": "stream",
          "text": [
            "Hello World\n"
          ],
          "name": "stdout"
        }
      ]
    },
    {
      "cell_type": "markdown",
      "metadata": {
        "id": "8_1nyuAiXMD5"
      },
      "source": [
        "#2.Flow Control - A Short Program: Rock, Paper, Scissors"
      ]
    },
    {
      "cell_type": "code",
      "metadata": {
        "id": "nfRau9MpXPSM"
      },
      "source": [
        "## Rule\n",
        "def rule(computer, user):\n",
        "    if (computer == user):\n",
        "        print('Computer:', computer,' ', 'User: ',user,'\\n')\n",
        "        print('HOA')\n",
        "    else:\n",
        "        if (computer != user):\n",
        "            if(user == 'bao'):\n",
        "                if(computer == 'bua'):\n",
        "                    print('Computer:', computer,' ', 'User: ',user,'\\n')\n",
        "                    print('User Win')\n",
        "                else:\n",
        "                    if(computer == 'keo'):\n",
        "                        print('Computer:', computer,' ', 'User: ',user,'\\n')\n",
        "                        print('User Lose')\n",
        "            elif (user == 'bua'):\n",
        "                if (computer == 'bao'):\n",
        "                    print('Computer:', computer,' ', 'User: ',user,'\\n')\n",
        "                    print('User Lose')\n",
        "                else:\n",
        "                    if (computer == 'keo'):\n",
        "                        print('Computer:', computer,' ', 'User: ',user,'\\n')\n",
        "                        print('User Lose')\n",
        "            elif (user == 'keo'):\n",
        "                if (computer == 'bao'):\n",
        "                    print('Computer:', computer,' ', 'User: ',user,'\\n')\n",
        "                    print('User Win')\n",
        "                elif (computer == 'bua'):\n",
        "                    print('Computer:', computer,' ', 'User: ',user,'\\n')\n",
        "                    print('User lose')"
      ],
      "execution_count": null,
      "outputs": []
    },
    {
      "cell_type": "code",
      "metadata": {
        "colab": {
          "base_uri": "https://localhost:8080/"
        },
        "id": "VF6SWJ1YXp8n",
        "outputId": "87bbedea-f891-4824-db76-05ae0a046ff9"
      },
      "source": [
        "##game\n",
        "import random as rd\n",
        "tech = ['bao','bua','keo']\n",
        "computer = tech[rd.randint(0,2)]\n",
        "user = input('User Entered Activity: ')\n",
        "while user not in tech:\n",
        "    user = input('User Entered Activity Again: ')\n",
        "    continue\n",
        "rule(computer,user)\n",
        "print('\\n')\n",
        "answear = input('Do you want to play again: ')\n",
        "while answear == 'Yes':\n",
        "    computer = tech[rd.randint(0,2)]\n",
        "    user = input('User Entered Activity: ')\n",
        "    while user not in tech:\n",
        "        user = input('User Entered Activity Again: ')\n",
        "        continue\n",
        "    rule(computer,user)\n",
        "    answear = input('Do you want to play again: ')\n",
        "    continue"
      ],
      "execution_count": null,
      "outputs": [
        {
          "output_type": "stream",
          "text": [
            "User Entered Activity: bao\n",
            "Computer: keo   User:  bao \n",
            "\n",
            "User Lose\n",
            "\n",
            "\n",
            "Do you want to play again: Yes\n",
            "User Entered Activity: keo\n",
            "Computer: bua   User:  keo \n",
            "\n",
            "User lose\n",
            "Do you want to play again: no\n"
          ],
          "name": "stdout"
        }
      ]
    },
    {
      "cell_type": "markdown",
      "metadata": {
        "id": "NoMhR-IXjbmc"
      },
      "source": [
        "#3.Functions - A Short Program: Zigzag"
      ]
    },
    {
      "cell_type": "code",
      "metadata": {
        "id": "fFQGmrowjgV2"
      },
      "source": [
        "def convert(s, numRows):\n",
        "        \"\"\"\n",
        "        :type s: str\n",
        "        :type numRows: int\n",
        "        :rtype: str\n",
        "        \"\"\"\n",
        "        '''\n",
        "        PAYPALISHIRING\n",
        "        3 rows\n",
        "        \n",
        "        P   A\n",
        "        A P L H\n",
        "        Y   I\n",
        "        \n",
        "        PAHNAPLSIIGYIR\n",
        "    \n",
        "        \n",
        "        0 [P   A]  -> [P,A,]\n",
        "        1 [A P L]\n",
        "        2 [Y   I] \n",
        "        \n",
        "        Time O(n)\n",
        "        Space O(n)\n",
        "        \n",
        "        n is the number of characters in string\n",
        "        k is the numRows\n",
        "        '''\n",
        "        \n",
        "        if numRows == 1 or numRows >= len(s):\n",
        "            return s\n",
        "        \n",
        "        delta = -1\n",
        "        row = 0\n",
        "        res = [[] for i in range(numRows)]\n",
        "        \n",
        "        #iterate through our string\n",
        "        for c in s:\n",
        "            res[row].append(c)\n",
        "            if row == 0 or row == numRows - 1:\n",
        "                delta *= -1\n",
        "            row += delta\n",
        "        \n",
        "        #consolidate result\n",
        "        for i in range(len(res)):\n",
        "            res[i] = ''.join(res[i])\n",
        "        return ''.join(res)"
      ],
      "execution_count": null,
      "outputs": []
    },
    {
      "cell_type": "code",
      "metadata": {
        "colab": {
          "base_uri": "https://localhost:8080/",
          "height": 35
        },
        "id": "NDjaveiDVTg3",
        "outputId": "a3a22128-38ba-4064-d3b1-d9a7092a025e"
      },
      "source": [
        "s = 'PAYPALISHIRING'\n",
        "convert(s, 3)"
      ],
      "execution_count": null,
      "outputs": [
        {
          "output_type": "execute_result",
          "data": {
            "application/vnd.google.colaboratory.intrinsic+json": {
              "type": "string"
            },
            "text/plain": [
              "'PAHNAPLSIIGYIR'"
            ]
          },
          "metadata": {
            "tags": []
          },
          "execution_count": 3
        }
      ]
    },
    {
      "cell_type": "markdown",
      "metadata": {
        "id": "FNsICwQ06AgR"
      },
      "source": [
        "# 4.Tic-Tac-Toe Board"
      ]
    },
    {
      "cell_type": "code",
      "metadata": {
        "id": "TFUIReBWIgAV"
      },
      "source": [
        "class game:\n",
        "  def __init__(self, values, player1, player2, choice):\n",
        "    self.values = values\n",
        "    self.score_board = {'player1': 0, 'player2': 0}\n",
        "    self.player_pos  = {'X':[], 'O':[]}\n",
        "    self.player_choice = {'X' : \"\", 'O' : \"\"}\n",
        "    self.player1     = player1\n",
        "    self.player2     = player2\n",
        "    self.options     = ['X', 'O']\n",
        "    self.choice      = choice\n",
        "  def print_tic_tac_toe(self):\n",
        "    print(\"\\n\")\n",
        "    print(\"\\t     |     |\")\n",
        "    print(\"\\t  {}  |  {}  |  {}\".format(self.values[0], self.values[1], self.values[2]))\n",
        "    print('\\t_____|_____|_____')\n",
        " \n",
        "    print(\"\\t     |     |\")\n",
        "    print(\"\\t  {}  |  {}  |  {}\".format(self.values[3], self.values[4], self.values[5]))\n",
        "    print('\\t_____|_____|_____')\n",
        " \n",
        "    print(\"\\t     |     |\")\n",
        " \n",
        "    print(\"\\t  {}  |  {}  |  {}\".format(self.values[6], self.values[7], self.values[8]))\n",
        "    print(\"\\t     |     |\")\n",
        "    print(\"\\n\")\n",
        "  \n",
        "  def print_scoreboard(self):\n",
        "    print(\"\\t--------------------------------\")\n",
        "    print(\"\\t              SCOREBOARD       \")\n",
        "    print(\"\\t--------------------------------\")\n",
        " \n",
        "    print(\"\\t   \", self.player1, \"\\t    \", self.score_board['player1'])\n",
        "    print(\"\\t   \", self.player2, \"\\t    \", self.score_board['player2'])\n",
        " \n",
        "    print(\"\\t--------------------------------\\n\")\n",
        "  \n",
        "  def check_draw(self):\n",
        "    if len(self.player_pos['X']) + len(self.player_pos['O']) == 9:\n",
        "        return True\n",
        "    return False\n",
        "  \n",
        "  def check_win(self):\n",
        " \n",
        "    # All possible winning combinations\n",
        "    soln = [[1, 2, 3], [4, 5, 6], [7, 8, 9], [1, 4, 7], [2, 5, 8], [3, 6, 9], [1, 5, 9], [3, 5, 7]]\n",
        " \n",
        "    # Loop to check if any winning combination is satisfied\n",
        "    for x in soln:\n",
        "        if all(y in self.player_pos[self.player1] for y in x):\n",
        " \n",
        "            # Return True if any winning combination satisfies\n",
        "            return True\n",
        "    # Return False if no combination is satisfied       \n",
        "    return False\n",
        "\n",
        "  \n",
        "  def single_game(self,X):\n",
        "  \n",
        "    # Game Loop for a single game of Tic Tac Toe\n",
        "    while True:\n",
        "        self.print_tic_tac_toe()\n",
        "         \n",
        "        # Try exception block for MOVE input\n",
        "        try:\n",
        "            print(\"Player \",X, \" turn. Which box? : \", end=\"\")\n",
        "            move = int(input()) \n",
        "        except ValueError:\n",
        "            print(\"Wrong Input!!! Try Again\")\n",
        "            continue\n",
        " \n",
        "        # Sanity check for MOVE inout\n",
        "        if move < 1 or move > 9:\n",
        "            print(\"Wrong Input!!! Try Again\")\n",
        "            continue\n",
        " \n",
        "        # Check if the box is not occupied already\n",
        "        if values[move-1] != ' ':\n",
        "            print(\"Place already filled. Try again!!\")\n",
        "            continue\n",
        " \n",
        "        # Update game information\n",
        " \n",
        "        # Updating grid status \n",
        "        self.values[move-1] = X\n",
        " \n",
        "        # Updating player positions\n",
        "        self.player_pos[X].append(move)\n",
        " \n",
        "        # Function call for checking win\n",
        "        if self.check_win():\n",
        "            self.print_tic_tac_toe()\n",
        "            print(\"Player \", X, \" has won the game!!\")     \n",
        "            print(\"\\n\")\n",
        "            return X\n",
        " \n",
        "        # Function call for checking draw game\n",
        "        if self.check_draw():\n",
        "            self.print_tic_tac_toe()\n",
        "            print(\"Game Drawn\")\n",
        "            print(\"\\n\")\n",
        "            return 'D'\n",
        " \n",
        "        # Switch player moves\n",
        "        if X == 'X':\n",
        "            X = 'O'\n",
        "        else:\n",
        "            X = 'X'\n",
        "  def action(self):\n",
        "    cur_player = self.player1\n",
        "    while True:\n",
        "      print(\"Turn to choose for\", cur_player)\n",
        "      print(\"Enter 1 for X\")\n",
        "      print(\"Enter 2 for O\")\n",
        "      print(\"Enter 3 to Quit\")\n",
        "      try:\n",
        "       choice = int(input())   \n",
        "      except ValueError:\n",
        "       print(\"Wrong Input!!! Try Again\\n\")\n",
        "       continue\n",
        "      \n",
        "      if choice == 1:\n",
        "        self.player_choice['X'] = cur_player\n",
        "        if cur_player == player1:\n",
        "          self.player_choice['O'] = self.player2\n",
        "        else:\n",
        "          self.player_choice['O'] = self.player1\n",
        " \n",
        "      elif choice == 2:\n",
        "        self.player_choice['O'] = cur_player\n",
        "        if cur_player == self.player1:\n",
        "          self.player_choice['X'] = self.player2\n",
        "        else:\n",
        "         self.player_choice['X'] = self.player1\n",
        "         \n",
        "      elif choice == 3:\n",
        "        print(\"Final Scores\")\n",
        "        self.print_scoreboard(score_board)\n",
        "        break  \n",
        "      else:\n",
        "        print(\"Wrong Choice!!!! Try Again\\n\")\n",
        " \n",
        "        # Stores the winner in a single game of Tic Tac Toe\n",
        "      winner = single_game(self.options[choice-1])\n",
        "         \n",
        "        # Edits the scoreboard according to the winner\n",
        "      if winner != 'D' :\n",
        "        player_won = self.player_choice[winner]\n",
        "        self.score_board[player_won] = self.score_board[player_won] + 1\n",
        " \n",
        "      self.print_scoreboard(score_board)\n",
        "        # Switch player who chooses X or O\n",
        "      if cur_player == self.player1:\n",
        "        cur_player = self.player2\n",
        "      else:\n",
        "        cur_player = self.player1\n",
        "    "
      ],
      "execution_count": 34,
      "outputs": []
    },
    {
      "cell_type": "code",
      "metadata": {
        "colab": {
          "base_uri": "https://localhost:8080/"
        },
        "id": "ljLs4C50JOGk",
        "outputId": "7dcb15f4-4825-4dd2-f444-3971e68ce7d4"
      },
      "source": [
        "player1 = input(\"Enter the name : \")\n",
        "player2 = input(\"Enter the name : \")\n",
        "values = [' ' for x in range(9)]\n",
        "test = game(values,player1,player2)\n",
        "test.print_tic_tac_toe()\n",
        "test.print_scoreboard()"
      ],
      "execution_count": 30,
      "outputs": [
        {
          "output_type": "stream",
          "text": [
            "Enter the name : Tom\n",
            "Enter the name : Jery\n",
            "\n",
            "\n",
            "\t     |     |\n",
            "\t     |     |   \n",
            "\t_____|_____|_____\n",
            "\t     |     |\n",
            "\t     |     |   \n",
            "\t_____|_____|_____\n",
            "\t     |     |\n",
            "\t     |     |   \n",
            "\t     |     |\n",
            "\n",
            "\n",
            "\t--------------------------------\n",
            "\t              SCOREBOARD       \n",
            "\t--------------------------------\n",
            "\t    Tom \t     0\n",
            "\t    Jery \t     0\n",
            "\t--------------------------------\n",
            "\n"
          ],
          "name": "stdout"
        }
      ]
    }
  ]
}