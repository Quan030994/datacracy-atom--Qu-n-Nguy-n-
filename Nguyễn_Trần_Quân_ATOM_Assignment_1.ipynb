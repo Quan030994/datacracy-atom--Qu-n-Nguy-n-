{
  "nbformat": 4,
  "nbformat_minor": 0,
  "metadata": {
    "colab": {
      "name": "Nguyễn Trần Quân_ATOM_Assignment#1.ipynb",
      "provenance": [],
      "authorship_tag": "ABX9TyMiZ3ngmEvAn83nRtSrPE5S",
      "include_colab_link": true
    },
    "kernelspec": {
      "name": "python3",
      "display_name": "Python 3"
    },
    "language_info": {
      "name": "python"
    }
  },
  "cells": [
    {
      "cell_type": "markdown",
      "metadata": {
        "id": "view-in-github",
        "colab_type": "text"
      },
      "source": [
        "<a href=\"https://colab.research.google.com/github/Quan030994/datacracy-atom--QuanNguyen/blob/main/Nguy%E1%BB%85n_Tr%E1%BA%A7n_Qu%C3%A2n_ATOM_Assignment_1.ipynb\" target=\"_parent\"><img src=\"https://colab.research.google.com/assets/colab-badge.svg\" alt=\"Open In Colab\"/></a>"
      ]
    },
    {
      "cell_type": "markdown",
      "metadata": {
        "id": "dFJS3778W5TB"
      },
      "source": [
        "#1.Python Basic - Your First Program"
      ]
    },
    {
      "cell_type": "code",
      "metadata": {
        "colab": {
          "base_uri": "https://localhost:8080/"
        },
        "id": "HOc46uPjW_Zx",
        "outputId": "25f0fe3a-80f9-4372-e806-86e64a6594df"
      },
      "source": [
        "print('Hello World')"
      ],
      "execution_count": 2,
      "outputs": [
        {
          "output_type": "stream",
          "text": [
            "Hello World\n"
          ],
          "name": "stdout"
        }
      ]
    },
    {
      "cell_type": "markdown",
      "metadata": {
        "id": "8_1nyuAiXMD5"
      },
      "source": [
        "#2.Flow Control - A Short Program: Rock, Paper, Scissors"
      ]
    },
    {
      "cell_type": "code",
      "metadata": {
        "id": "nfRau9MpXPSM"
      },
      "source": [
        "## Rule\n",
        "def rule(computer, user):\n",
        "    if (computer == user):\n",
        "        print('Computer:', computer,' ', 'User: ',user,'\\n')\n",
        "        print('HOA')\n",
        "    else:\n",
        "        if (computer != user):\n",
        "            if(user == 'bao'):\n",
        "                if(computer == 'bua'):\n",
        "                    print('Computer:', computer,' ', 'User: ',user,'\\n')\n",
        "                    print('User Win')\n",
        "                else:\n",
        "                    if(computer == 'keo'):\n",
        "                        print('Computer:', computer,' ', 'User: ',user,'\\n')\n",
        "                        print('User Lose')\n",
        "            elif (user == 'bua'):\n",
        "                if (computer == 'bao'):\n",
        "                    print('Computer:', computer,' ', 'User: ',user,'\\n')\n",
        "                    print('User Lose')\n",
        "                else:\n",
        "                    if (computer == 'keo'):\n",
        "                        print('Computer:', computer,' ', 'User: ',user,'\\n')\n",
        "                        print('User Lose')\n",
        "            elif (user == 'keo'):\n",
        "                if (computer == 'bao'):\n",
        "                    print('Computer:', computer,' ', 'User: ',user,'\\n')\n",
        "                    print('User Win')\n",
        "                elif (computer == 'bua'):\n",
        "                    print('Computer:', computer,' ', 'User: ',user,'\\n')\n",
        "                    print('User lose')"
      ],
      "execution_count": 4,
      "outputs": []
    },
    {
      "cell_type": "code",
      "metadata": {
        "colab": {
          "base_uri": "https://localhost:8080/"
        },
        "id": "VF6SWJ1YXp8n",
        "outputId": "87bbedea-f891-4824-db76-05ae0a046ff9"
      },
      "source": [
        "##game\n",
        "import random as rd\n",
        "tech = ['bao','bua','keo']\n",
        "computer = tech[rd.randint(0,2)]\n",
        "user = input('User Entered Activity: ')\n",
        "while user not in tech:\n",
        "    user = input('User Entered Activity Again: ')\n",
        "    continue\n",
        "rule(computer,user)\n",
        "print('\\n')\n",
        "answear = input('Do you want to play again: ')\n",
        "while answear == 'Yes':\n",
        "    computer = tech[rd.randint(0,2)]\n",
        "    user = input('User Entered Activity: ')\n",
        "    while user not in tech:\n",
        "        user = input('User Entered Activity Again: ')\n",
        "        continue\n",
        "    rule(computer,user)\n",
        "    answear = input('Do you want to play again: ')\n",
        "    continue"
      ],
      "execution_count": 5,
      "outputs": [
        {
          "output_type": "stream",
          "text": [
            "User Entered Activity: bao\n",
            "Computer: keo   User:  bao \n",
            "\n",
            "User Lose\n",
            "\n",
            "\n",
            "Do you want to play again: Yes\n",
            "User Entered Activity: keo\n",
            "Computer: bua   User:  keo \n",
            "\n",
            "User lose\n",
            "Do you want to play again: no\n"
          ],
          "name": "stdout"
        }
      ]
    },
    {
      "cell_type": "markdown",
      "metadata": {
        "id": "NoMhR-IXjbmc"
      },
      "source": [
        "#3.Functions - A Short Program: Zigzag"
      ]
    },
    {
      "cell_type": "code",
      "metadata": {
        "id": "fFQGmrowjgV2"
      },
      "source": [
        "def convert(s, numRows):\n",
        "        \"\"\"\n",
        "        :type s: str\n",
        "        :type numRows: int\n",
        "        :rtype: str\n",
        "        \"\"\"\n",
        "        '''\n",
        "        PAYPALISHIRING\n",
        "        3 rows\n",
        "        \n",
        "        P   A\n",
        "        A P L H\n",
        "        Y   I\n",
        "        \n",
        "        PAHNAPLSIIGYIR\n",
        "        \n",
        "        1. Approach 1\n",
        "        \n",
        "        0 [P   A]  -> [P,A,]\n",
        "        1 [A P L]\n",
        "        2 [Y   I] \n",
        "        \n",
        "        Time O(n)\n",
        "        Space O(n)\n",
        "        \n",
        "        n is the number of characters in string\n",
        "        k is the numRows\n",
        "        '''\n",
        "        \n",
        "        if numRows == 1 or numRows >= len(s):\n",
        "            return s\n",
        "        \n",
        "        delta = -1\n",
        "        row = 0\n",
        "        res = [[] for i in range(numRows)]\n",
        "        \n",
        "        #iterate through our string\n",
        "        for c in s:\n",
        "            res[row].append(c)\n",
        "            if row == 0 or row == numRows - 1:\n",
        "                delta *= -1\n",
        "            row += delta\n",
        "        \n",
        "        #consolidate result\n",
        "        for i in range(len(res)):\n",
        "            res[i] = ''.join(res[i])\n",
        "        return ''.join(res)"
      ],
      "execution_count": 1,
      "outputs": []
    },
    {
      "cell_type": "code",
      "metadata": {
        "colab": {
          "base_uri": "https://localhost:8080/",
          "height": 35
        },
        "id": "NDjaveiDVTg3",
        "outputId": "a3a22128-38ba-4064-d3b1-d9a7092a025e"
      },
      "source": [
        "s = 'PAYPALISHIRING'\n",
        "convert(s, 3)"
      ],
      "execution_count": 3,
      "outputs": [
        {
          "output_type": "execute_result",
          "data": {
            "application/vnd.google.colaboratory.intrinsic+json": {
              "type": "string"
            },
            "text/plain": [
              "'PAHNAPLSIIGYIR'"
            ]
          },
          "metadata": {
            "tags": []
          },
          "execution_count": 3
        }
      ]
    }
  ]
}